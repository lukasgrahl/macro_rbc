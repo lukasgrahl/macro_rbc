{
 "cells": [
  {
   "cell_type": "code",
   "execution_count": 2,
   "id": "36e27752",
   "metadata": {},
   "outputs": [],
   "source": [
    "%run init_notebookspace.py\n",
    "%run ..\\settings.py\n",
    "from settings import *"
   ]
  },
  {
   "cell_type": "code",
   "execution_count": 3,
   "id": "b23e43dc",
   "metadata": {},
   "outputs": [],
   "source": [
    "import pandas as pd\n",
    "import numpy as np\n",
    "\n",
    "import os"
   ]
  },
  {
   "cell_type": "markdown",
   "id": "d06dbaa5",
   "metadata": {},
   "source": [
    "## Load data"
   ]
  },
  {
   "cell_type": "code",
   "execution_count": 4,
   "id": "a6baa8fd",
   "metadata": {},
   "outputs": [],
   "source": [
    "h_work = pd.read_csv(os.path.join(DATA_DIR, 'ita_hours_worked.csv'), parse_dates=['TIME'], infer_datetime_format=True)\n",
    "int_r = pd.read_csv(os.path.join(DATA_DIR, 'ita_real_interest.csv'), parse_dates=['TIME'], infer_datetime_format=True)\n",
    "a_wage = pd.read_csv(os.path.join(DATA_DIR, 'ita_avg_hourly_wage.csv'),parse_dates=['TIME'], infer_datetime_format=True)\n",
    "\n",
    "gdp = pd.read_csv(os.path.join(DATA_DIR, 'ita_gdp_consumptions_investments.csv'),parse_dates=['TIME'], infer_datetime_format=True)"
   ]
  },
  {
   "cell_type": "code",
   "execution_count": 5,
   "id": "9c129501",
   "metadata": {},
   "outputs": [],
   "source": [
    "gdp.set_index('TIME', inplace=True)\n",
    "gdp = gdp[['Value', 'Aggregate (millions of euro)']]\n",
    "\n",
    "out = []\n",
    "for i in gdp['Aggregate (millions of euro)'].drop_duplicates().values:\n",
    "    _ = gdp[gdp['Aggregate (millions of euro)'] == i].copy()\n",
    "    out.append(pd.DataFrame(_['Value']))\n",
    "invest, importx, gdp, consump, export, d_inventory = out\n",
    "\n",
    "invest.rename(columns={'Value': 'invest'}, inplace=True)\n",
    "importx.rename(columns={'Value': 'importx'}, inplace=True)\n",
    "gdp.rename(columns={'Value': 'gdp'}, inplace=True)\n",
    "export.rename(columns={'Value': 'export'}, inplace=True)\n",
    "d_inventory.rename(columns={'Value': 'd_inventory'}, inplace=True)"
   ]
  },
  {
   "cell_type": "code",
   "execution_count": 6,
   "id": "571c36bc",
   "metadata": {},
   "outputs": [],
   "source": [
    "int_r = int_r[int_r['LOCATION'] == 'ITA']\n",
    "int_r.set_index('TIME', inplace=True)\n",
    "int_r.rename(columns={'Value': 'int_r'}, inplace=True)\n"
   ]
  },
  {
   "cell_type": "code",
   "execution_count": 7,
   "id": "95deb2db",
   "metadata": {},
   "outputs": [],
   "source": [
    "h_work.set_index('TIME', inplace=True)\n",
    "h_work = h_work[['Breakdown by industry (NACE Rev2)', 'Type of employment', 'Employment status', 'Value']]\n",
    "h_work.rename(columns={'Value': 'hwork'}, inplace=True)"
   ]
  },
  {
   "cell_type": "code",
   "execution_count": 10,
   "id": "6c1dc45b",
   "metadata": {},
   "outputs": [
    {
     "ename": "NameError",
     "evalue": "name 'index' is not defined",
     "output_type": "error",
     "traceback": [
      "\u001b[1;31m---------------------------------------------------------------------------\u001b[0m",
      "\u001b[1;31mNameError\u001b[0m                                 Traceback (most recent call last)",
      "Cell \u001b[1;32mIn [10], line 1\u001b[0m\n\u001b[1;32m----> 1\u001b[0m pd\u001b[38;5;241m.\u001b[39mmerge(gdp, int_r, on\u001b[38;5;241m=\u001b[39m\u001b[43mindex\u001b[49m)\n",
      "\u001b[1;31mNameError\u001b[0m: name 'index' is not defined"
     ]
    }
   ],
   "source": [
    "gdp.j(gdp, int_r, "
   ]
  },
  {
   "cell_type": "code",
   "execution_count": null,
   "id": "8f935cd6",
   "metadata": {},
   "outputs": [],
   "source": []
  },
  {
   "cell_type": "code",
   "execution_count": null,
   "id": "5ca6fc97",
   "metadata": {},
   "outputs": [],
   "source": []
  },
  {
   "cell_type": "code",
   "execution_count": null,
   "id": "ca6eae46",
   "metadata": {},
   "outputs": [],
   "source": []
  },
  {
   "cell_type": "markdown",
   "id": "3a4f1c09",
   "metadata": {},
   "source": [
    "# RBC Model for Italy"
   ]
  },
  {
   "cell_type": "code",
   "execution_count": null,
   "id": "15407b0d",
   "metadata": {},
   "outputs": [],
   "source": []
  },
  {
   "cell_type": "markdown",
   "id": "746eab4d",
   "metadata": {},
   "source": []
  },
  {
   "cell_type": "code",
   "execution_count": null,
   "id": "47642cb9",
   "metadata": {},
   "outputs": [],
   "source": []
  }
 ],
 "metadata": {
  "kernelspec": {
   "display_name": "env_marco_rbc",
   "language": "python",
   "name": "env_marco_rbc"
  },
  "language_info": {
   "codemirror_mode": {
    "name": "ipython",
    "version": 3
   },
   "file_extension": ".py",
   "mimetype": "text/x-python",
   "name": "python",
   "nbconvert_exporter": "python",
   "pygments_lexer": "ipython3",
   "version": "3.9.4"
  }
 },
 "nbformat": 4,
 "nbformat_minor": 5
}
