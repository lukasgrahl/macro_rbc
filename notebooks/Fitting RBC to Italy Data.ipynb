{
 "cells": [
  {
   "cell_type": "markdown",
   "id": "db7c2453",
   "metadata": {},
   "source": [
    "## Table of Content\n",
    "* [Make RBC Model](#chapter1)\n",
    "    * [Model Equations](#section_1_1)\n",
    "    * [Find Steady State, Solve the Model](#section_1_2)\n",
    "* [Get Italy data](#chapter2)"
   ]
  },
  {
   "cell_type": "code",
   "execution_count": 1,
   "id": "bc12711f",
   "metadata": {},
   "outputs": [
    {
     "name": "stderr",
     "output_type": "stream",
     "text": [
      "WARNING (aesara.tensor.blas): Using NumPy C-API based implementation for BLAS functions.\n"
     ]
    },
    {
     "ename": "ModuleNotFoundError",
     "evalue": "No module named 'TimeSeriesTools'",
     "output_type": "error",
     "traceback": [
      "\u001b[1;31m---------------------------------------------------------------------------\u001b[0m",
      "\u001b[1;31mModuleNotFoundError\u001b[0m                       Traceback (most recent call last)",
      "Cell \u001b[1;32mIn [1], line 13\u001b[0m\n\u001b[0;32m     11\u001b[0m \u001b[38;5;28;01mimport\u001b[39;00m \u001b[38;5;21;01msys\u001b[39;00m\n\u001b[0;32m     12\u001b[0m sys\u001b[38;5;241m.\u001b[39mpath\u001b[38;5;241m.\u001b[39mappend(\u001b[38;5;124m'\u001b[39m\u001b[38;5;124m..\u001b[39m\u001b[38;5;124m'\u001b[39m)\n\u001b[1;32m---> 13\u001b[0m \u001b[38;5;28;01mfrom\u001b[39;00m \u001b[38;5;21;01mTimeSeriesTools\u001b[39;00m\u001b[38;5;21;01m.\u001b[39;00m\u001b[38;5;21;01mstats\u001b[39;00m \u001b[38;5;28;01mimport\u001b[39;00m ADF_test_summary\n\u001b[0;32m     14\u001b[0m \u001b[38;5;28;01mfrom\u001b[39;00m \u001b[38;5;21;01mTimeSeriesTools\u001b[39;00m\u001b[38;5;21;01m.\u001b[39;00m\u001b[38;5;21;01mtransformers\u001b[39;00m \u001b[38;5;28;01mimport\u001b[39;00m DetrendTransformer, LogTransformer\n\u001b[0;32m     16\u001b[0m config \u001b[38;5;241m=\u001b[39m {\n\u001b[0;32m     17\u001b[0m     \u001b[38;5;124m'\u001b[39m\u001b[38;5;124mfigure.figsize\u001b[39m\u001b[38;5;124m'\u001b[39m:(\u001b[38;5;241m14\u001b[39m,\u001b[38;5;241m4\u001b[39m),\n\u001b[0;32m     18\u001b[0m     \u001b[38;5;124m'\u001b[39m\u001b[38;5;124mfigure.dpi\u001b[39m\u001b[38;5;124m'\u001b[39m:\u001b[38;5;241m144\u001b[39m,\n\u001b[1;32m   (...)\u001b[0m\n\u001b[0;32m     26\u001b[0m     \u001b[38;5;124m'\u001b[39m\u001b[38;5;124maxes.spines.right\u001b[39m\u001b[38;5;124m'\u001b[39m:\u001b[38;5;28;01mFalse\u001b[39;00m\n\u001b[0;32m     27\u001b[0m }\n",
      "\u001b[1;31mModuleNotFoundError\u001b[0m: No module named 'TimeSeriesTools'"
     ]
    }
   ],
   "source": [
    "%matplotlib inline\n",
    "import gEcon as ge\n",
    "import gEcon.plotting as gp\n",
    "import matplotlib.pyplot as plt\n",
    "import numpy as np\n",
    "\n",
    "import pandas as pd\n",
    "\n",
    "import arviz as az\n",
    "\n",
    "import sys\n",
    "sys.path.append('..')\n",
    "from TimeSeriesTools.stats import ADF_test_summary\n",
    "from TimeSeriesTools.transformers import DetrendTransformer, LogTransformer\n",
    "\n",
    "config = {\n",
    "    'figure.figsize':(14,4),\n",
    "    'figure.dpi':144,\n",
    "    'figure.facecolor':'white',\n",
    "    'axes.grid':True,\n",
    "    'grid.linestyle':'--',\n",
    "    'grid.linewidth':0.5,\n",
    "    'axes.spines.top':False,\n",
    "    'axes.spines.bottom':False,\n",
    "    'axes.spines.left':False,\n",
    "    'axes.spines.right':False\n",
    "}\n",
    "\n",
    "plt.rcParams.update(config)"
   ]
  },
  {
   "cell_type": "markdown",
   "id": "fb89c65a",
   "metadata": {},
   "source": [
    "## Make RBC Model <a class=\"anchor\" id=\"chapter1\"></a>"
   ]
  },
  {
   "cell_type": "code",
   "execution_count": null,
   "id": "60215db0",
   "metadata": {},
   "outputs": [],
   "source": [
    "rbc = ge.gEconModel('GCN Files/RBC_complete.gcn')"
   ]
  },
  {
   "cell_type": "markdown",
   "id": "e823088a",
   "metadata": {},
   "source": [
    "### Model Equations  <a class=\"anchor\" id=\"section_1_1\"></a>"
   ]
  },
  {
   "cell_type": "code",
   "execution_count": null,
   "id": "75776d99",
   "metadata": {},
   "outputs": [],
   "source": [
    "for equation in rbc.system_equations:\n",
    "    display(equation)"
   ]
  },
  {
   "cell_type": "markdown",
   "id": "55edafb7",
   "metadata": {},
   "source": [
    "### Find Steady State, Solve the Model <a class=\"anchor\" id=\"section_1_2\"></a>"
   ]
  },
  {
   "cell_type": "code",
   "execution_count": null,
   "id": "ebb0e5db",
   "metadata": {},
   "outputs": [],
   "source": [
    "rbc.steady_state()\n",
    "rbc.solve_model()"
   ]
  },
  {
   "cell_type": "code",
   "execution_count": null,
   "id": "1ce0d5c3",
   "metadata": {},
   "outputs": [],
   "source": [
    "rbc.print_steady_state()"
   ]
  },
  {
   "cell_type": "markdown",
   "id": "f559f730",
   "metadata": {},
   "source": [
    "## Get Italy data <a class=\"anchor\" id=\"chapter2\"></a>"
   ]
  },
  {
   "cell_type": "code",
   "execution_count": null,
   "id": "7178bd1f",
   "metadata": {},
   "outputs": [],
   "source": []
  }
 ],
 "metadata": {
  "kernelspec": {
   "display_name": "Python 3 (ipykernel)",
   "language": "python",
   "name": "python3"
  },
  "language_info": {
   "codemirror_mode": {
    "name": "ipython",
    "version": 3
   },
   "file_extension": ".py",
   "mimetype": "text/x-python",
   "name": "python",
   "nbconvert_exporter": "python",
   "pygments_lexer": "ipython3",
   "version": "3.9.13"
  }
 },
 "nbformat": 4,
 "nbformat_minor": 5
}
