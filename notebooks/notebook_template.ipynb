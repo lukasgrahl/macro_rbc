{
 "cells": [
  {
   "cell_type": "code",
   "execution_count": 4,
   "id": "d90012b3",
   "metadata": {},
   "outputs": [],
   "source": [
    "%run init_notebookspace.py\n",
    "%run ..\\settings.py\n",
    "from settings import *\n",
    "# start code below here"
   ]
  },
  {
   "cell_type": "code",
   "execution_count": 5,
   "id": "b23e43dc",
   "metadata": {},
   "outputs": [],
   "source": [
    "import pandas as pd\n",
    "import numpy as np"
   ]
  },
  {
   "cell_type": "code",
   "execution_count": null,
   "id": "23d91d28",
   "metadata": {},
   "outputs": [],
   "source": []
  }
 ],
 "metadata": {
  "kernelspec": {
   "display_name": "Python 3 (ipykernel)",
   "language": "python",
   "name": "python3"
  },
  "language_info": {
   "codemirror_mode": {
    "name": "ipython",
    "version": 3
   },
   "file_extension": ".py",
   "mimetype": "text/x-python",
   "name": "python",
   "nbconvert_exporter": "python",
   "pygments_lexer": "ipython3",
   "version": "3.9.4"
  }
 },
 "nbformat": 4,
 "nbformat_minor": 5
}
