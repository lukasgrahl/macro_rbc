{
 "cells": [
  {
   "cell_type": "code",
   "execution_count": 4,
   "id": "d90012b3",
   "metadata": {},
   "outputs": [],
   "source": [
    "%run init_notebookspace.py\n",
    "%run ..\\settings.py\n",
    "from settings import *\n",
    "# start code below here"
   ]
  },
  {
   "cell_type": "code",
   "execution_count": 9,
   "id": "b23e43dc",
   "metadata": {},
   "outputs": [],
   "source": [
    "import pandas as pd\n",
    "import numpy as np\n",
    "\n",
    "import os"
   ]
  },
  {
   "cell_type": "markdown",
   "id": "776ad2c9",
   "metadata": {},
   "source": [
    "## Import Data"
   ]
  },
  {
   "cell_type": "code",
   "execution_count": 10,
   "id": "a1db150f",
   "metadata": {},
   "outputs": [
    {
     "data": {
      "text/plain": [
       "'c:\\\\users\\\\lukasgrahl\\\\documents\\\\git\\\\macro_rbc\\\\env_macro_rbc\\\\data'"
      ]
     },
     "execution_count": 10,
     "metadata": {},
     "output_type": "execute_result"
    }
   ],
   "source": [
    "DATA_DIR"
   ]
  },
  {
   "cell_type": "code",
   "execution_count": 11,
   "id": "afcd38b0",
   "metadata": {},
   "outputs": [
    {
     "data": {
      "text/plain": [
       "'c:\\\\users\\\\lukasgrahl\\\\documents\\\\git\\\\macro_rbc\\\\env_macro_rbc'"
      ]
     },
     "execution_count": 11,
     "metadata": {},
     "output_type": "execute_result"
    }
   ],
   "source": [
    "PROJ_ROOT"
   ]
  },
  {
   "cell_type": "code",
   "execution_count": null,
   "id": "c0777083",
   "metadata": {},
   "outputs": [],
   "source": [
    "# sample load data\n",
    "df = pd.read_csv(os.path.join(PROJ_ROOT, DATA_DIR, 'data.csv'))"
   ]
  }
 ],
 "metadata": {
  "kernelspec": {
   "display_name": "Python 3 (ipykernel)",
   "language": "python",
   "name": "python3"
  },
  "language_info": {
   "codemirror_mode": {
    "name": "ipython",
    "version": 3
   },
   "file_extension": ".py",
   "mimetype": "text/x-python",
   "name": "python",
   "nbconvert_exporter": "python",
   "pygments_lexer": "ipython3",
   "version": "3.9.4"
  }
 },
 "nbformat": 4,
 "nbformat_minor": 5
}
